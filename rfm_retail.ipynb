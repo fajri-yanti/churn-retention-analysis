{
 "cells": [
  {
   "cell_type": "code",
   "execution_count": 1,
   "id": "fab8e1b8-c665-40e7-bc11-31698ca7befd",
   "metadata": {
    "tags": []
   },
   "outputs": [],
   "source": [
    "import pyspark\n",
    "import os\n",
    "import json\n",
    "import argparse\n",
    "\n",
    "from dotenv import load_dotenv\n",
    "from pathlib import Path\n",
    "from pyspark.sql.types import StructType\n",
    "from pyspark.sql.functions import to_timestamp,col,when"
   ]
  },
  {
   "cell_type": "code",
   "execution_count": 2,
   "id": "161a8200-ab3d-4a70-a573-5629c20ec0bd",
   "metadata": {
    "tags": []
   },
   "outputs": [
    {
     "data": {
      "text/plain": [
       "True"
      ]
     },
     "execution_count": 2,
     "metadata": {},
     "output_type": "execute_result"
    }
   ],
   "source": [
    "dotenv_path = Path('/resources/.env')\n",
    "load_dotenv(dotenv_path=dotenv_path)"
   ]
  },
  {
   "cell_type": "code",
   "execution_count": 3,
   "id": "c2e6468a-4b39-46ac-b697-997bf7fa313f",
   "metadata": {
    "tags": []
   },
   "outputs": [],
   "source": [
    "postgres_host = os.getenv('POSTGRES_CONTAINER_NAME')\n",
    "postgres_dw_db = os.getenv('POSTGRES_DW_DB')\n",
    "postgres_user = os.getenv('POSTGRES_USER')\n",
    "postgres_password = os.getenv('POSTGRES_PASSWORD')"
   ]
  },
  {
   "cell_type": "code",
   "execution_count": 4,
   "id": "ffdef8d4-8cb6-4f80-bc19-5f27a92c50a1",
   "metadata": {
    "tags": []
   },
   "outputs": [],
   "source": [
    "sparkcontext = pyspark.SparkContext.getOrCreate(conf=(\n",
    "        pyspark\n",
    "        .SparkConf()\n",
    "        .setAppName('Dibimbing')\n",
    "        .setMaster('local')\n",
    "        .set(\"spark.jars\", \"/opt/postgresql-42.2.18.jar\")\n",
    "    ))\n",
    "sparkcontext.setLogLevel(\"WARN\")\n",
    "\n",
    "spark = pyspark.sql.SparkSession(sparkcontext.getOrCreate())"
   ]
  },
  {
   "cell_type": "code",
   "execution_count": 5,
   "id": "989a590b-5a8e-4b77-a7a2-d543ba66f2e5",
   "metadata": {
    "tags": []
   },
   "outputs": [],
   "source": [
    "jdbc_url = f'jdbc:postgresql://{postgres_host}/{postgres_dw_db}'\n",
    "jdbc_properties = {\n",
    "    'user': postgres_user,\n",
    "    'password': postgres_password,\n",
    "    'driver': 'org.postgresql.Driver',\n",
    "    'stringtype': 'unspecified'\n",
    "}"
   ]
  },
  {
   "cell_type": "code",
   "execution_count": 6,
   "id": "8a274082-508d-47cc-8a01-6572805e7d4d",
   "metadata": {
    "tags": []
   },
   "outputs": [],
   "source": [
    "retail_df = spark.read.jdbc(\n",
    "    jdbc_url,\n",
    "    'public.retail',\n",
    "    properties=jdbc_properties\n",
    ")"
   ]
  },
  {
   "cell_type": "code",
   "execution_count": 7,
   "id": "0a3e5807-8201-4a45-9259-6eec5d3d5392",
   "metadata": {
    "tags": []
   },
   "outputs": [
    {
     "name": "stdout",
     "output_type": "stream",
     "text": [
      "root\n",
      " |-- invoiceno: string (nullable = true)\n",
      " |-- stockcode: string (nullable = true)\n",
      " |-- description: string (nullable = true)\n",
      " |-- quantity: integer (nullable = true)\n",
      " |-- invoicedate: date (nullable = true)\n",
      " |-- unitprice: double (nullable = true)\n",
      " |-- customerid: string (nullable = true)\n",
      " |-- country: string (nullable = true)\n",
      "\n"
     ]
    }
   ],
   "source": [
    "retail_df.printSchema()"
   ]
  },
  {
   "cell_type": "code",
   "execution_count": 8,
   "id": "242d7b76-b9be-4f3a-9647-76a64d8dea17",
   "metadata": {
    "tags": []
   },
   "outputs": [
    {
     "name": "stdout",
     "output_type": "stream",
     "text": [
      "+---------+---------+--------------------+--------+-----------+---------+----------+--------------+\n",
      "|invoiceno|stockcode|         description|quantity|invoicedate|unitprice|customerid|       country|\n",
      "+---------+---------+--------------------+--------+-----------+---------+----------+--------------+\n",
      "|   536365|   85123A|WHITE HANGING HEA...|       6| 2010-12-01|     2.55|     17850|United Kingdom|\n",
      "|   536365|    71053| WHITE METAL LANTERN|       6| 2010-12-01|     3.39|     17850|United Kingdom|\n",
      "|   536365|   84406B|CREAM CUPID HEART...|       8| 2010-12-01|     2.75|     17850|United Kingdom|\n",
      "|   536365|   84029G|KNITTED UNION FLA...|       6| 2010-12-01|     3.39|     17850|United Kingdom|\n",
      "|   536365|   84029E|RED WOOLLY HOTTIE...|       6| 2010-12-01|     3.39|     17850|United Kingdom|\n",
      "|   536365|    22752|SET 7 BABUSHKA NE...|       2| 2010-12-01|     7.65|     17850|United Kingdom|\n",
      "|   536365|    21730|GLASS STAR FROSTE...|       6| 2010-12-01|     4.25|     17850|United Kingdom|\n",
      "|   536366|    22633|HAND WARMER UNION...|       6| 2010-12-01|     1.85|     17850|United Kingdom|\n",
      "|   536366|    22632|HAND WARMER RED P...|       6| 2010-12-01|     1.85|     17850|United Kingdom|\n",
      "|   536367|    84879|ASSORTED COLOUR B...|      32| 2010-12-01|     1.69|     13047|United Kingdom|\n",
      "+---------+---------+--------------------+--------+-----------+---------+----------+--------------+\n",
      "only showing top 10 rows\n",
      "\n"
     ]
    }
   ],
   "source": [
    "retail_df.show(10)"
   ]
  },
  {
   "cell_type": "code",
   "execution_count": 13,
   "id": "64a74e6a-2e6e-4842-851b-96e83b5b9f30",
   "metadata": {
    "tags": []
   },
   "outputs": [
    {
     "name": "stdout",
     "output_type": "stream",
     "text": [
      "+---------+---------+--------------------+--------+-----------+---------+----------+--------------+------------------+\n",
      "|invoiceno|stockcode|         description|quantity|invoicedate|unitprice|customerid|       country|       total_price|\n",
      "+---------+---------+--------------------+--------+-----------+---------+----------+--------------+------------------+\n",
      "|   536365|   85123A|WHITE HANGING HEA...|       6| 2010-12-01|     2.55|     17850|United Kingdom|15.299999999999999|\n",
      "|   536365|    71053| WHITE METAL LANTERN|       6| 2010-12-01|     3.39|     17850|United Kingdom|             20.34|\n",
      "|   536365|   84406B|CREAM CUPID HEART...|       8| 2010-12-01|     2.75|     17850|United Kingdom|              22.0|\n",
      "|   536365|   84029G|KNITTED UNION FLA...|       6| 2010-12-01|     3.39|     17850|United Kingdom|             20.34|\n",
      "|   536365|   84029E|RED WOOLLY HOTTIE...|       6| 2010-12-01|     3.39|     17850|United Kingdom|             20.34|\n",
      "|   536365|    22752|SET 7 BABUSHKA NE...|       2| 2010-12-01|     7.65|     17850|United Kingdom|              15.3|\n",
      "|   536365|    21730|GLASS STAR FROSTE...|       6| 2010-12-01|     4.25|     17850|United Kingdom|              25.5|\n",
      "|   536366|    22633|HAND WARMER UNION...|       6| 2010-12-01|     1.85|     17850|United Kingdom|11.100000000000001|\n",
      "|   536366|    22632|HAND WARMER RED P...|       6| 2010-12-01|     1.85|     17850|United Kingdom|11.100000000000001|\n",
      "|   536367|    84879|ASSORTED COLOUR B...|      32| 2010-12-01|     1.69|     13047|United Kingdom|             54.08|\n",
      "+---------+---------+--------------------+--------+-----------+---------+----------+--------------+------------------+\n",
      "only showing top 10 rows\n",
      "\n"
     ]
    }
   ],
   "source": [
    "retail_df = retail_df.withColumn(\"total_price\", retail_df[\"unitprice\"] * retail_df[\"quantity\"])\n",
    "retail_df.show(10)"
   ]
  },
  {
   "cell_type": "code",
   "execution_count": 20,
   "id": "e9b3ba5d-0a21-4fdd-89f0-3f7216745a2c",
   "metadata": {
    "tags": []
   },
   "outputs": [
    {
     "name": "stdout",
     "output_type": "stream",
     "text": [
      "+----------+-------+---------+------------------+\n",
      "|customerid|Recency|Frequency|          Monetary|\n",
      "+----------+-------+---------+------------------+\n",
      "|     16250|    261|       24|389.44000000000005|\n",
      "|     15574|    177|      168| 702.2500000000001|\n",
      "|     15555|     12|      925| 4758.199999999989|\n",
      "|     15271|      7|      275| 2485.820000000002|\n",
      "|     17714|    320|       10|             153.0|\n",
      "|     17686|      7|      286| 5739.460000000007|\n",
      "|     13865|     58|       30|            501.56|\n",
      "|     14157|     19|       49| 400.4300000000002|\n",
      "|     13610|     12|      228|1115.4300000000005|\n",
      "|     13772|     33|      177|           1132.13|\n",
      "|     13282|     18|       40|           1047.84|\n",
      "|     12394|     63|       27|           1272.48|\n",
      "|     16320|    172|       56|           1038.46|\n",
      "|     13192|     95|       63| 911.9400000000002|\n",
      "|     14887|     79|        6|            1862.0|\n",
      "|     17506|     70|       16|294.28999999999996|\n",
      "|     17427|     71|        2|             100.8|\n",
      "|     18130|      8|       71|1045.7400000000002|\n",
      "|     16504|     25|       86|484.37999999999977|\n",
      "|     15269|     23|        2|             408.8|\n",
      "+----------+-------+---------+------------------+\n",
      "only showing top 20 rows\n",
      "\n"
     ]
    }
   ],
   "source": [
    "from pyspark.sql import functions as F\n",
    "\n",
    "max_date = retail_df.agg(F.max(\"invoicedate\")).collect()[0][0]\n",
    "\n",
    "rfm_df = retail_df.groupBy(\"customerid\").agg(\n",
    "    (F.datediff(F.lit(max_date), F.max(\"invoicedate\"))).alias(\"Recency\"), \n",
    "    F.count(\"invoiceno\").alias(\"Frequency\"),                               \n",
    "    F.sum(F.col(\"quantity\") * F.col(\"unitprice\")).alias(\"Monetary\")       \n",
    ")\n",
    "\n",
    "rfm_df.show()\n"
   ]
  },
  {
   "cell_type": "code",
   "execution_count": 21,
   "id": "cdccfaef-ebe3-4de4-af26-b4d5b7fb27d6",
   "metadata": {
    "tags": []
   },
   "outputs": [],
   "source": [
    "(\n",
    "    rfm_df\n",
    "    .write\n",
    "    .mode(\"append\")\n",
    "    .option(\"truncate\", \"true\")\n",
    "    .jdbc(\n",
    "        jdbc_url,\n",
    "        'public.rfm_retail',\n",
    "        properties=jdbc_properties\n",
    "    )\n",
    ")\n"
   ]
  },
  {
   "cell_type": "code",
   "execution_count": 22,
   "id": "8447ef7c-73ec-4562-b64a-39fe8d12d3f2",
   "metadata": {
    "tags": []
   },
   "outputs": [
    {
     "name": "stdout",
     "output_type": "stream",
     "text": [
      "+----------+-------+---------+------------------+\n",
      "|customerid|Recency|Frequency|          Monetary|\n",
      "+----------+-------+---------+------------------+\n",
      "|     16250|    261|       24|389.44000000000005|\n",
      "|     15574|    177|      168| 702.2500000000001|\n",
      "|     15555|     12|      925| 4758.199999999989|\n",
      "|     15271|      7|      275| 2485.820000000002|\n",
      "|     17714|    320|       10|             153.0|\n",
      "|     17686|      7|      286| 5739.460000000007|\n",
      "|     13865|     58|       30|            501.56|\n",
      "|     14157|     19|       49| 400.4300000000002|\n",
      "|     13610|     12|      228|1115.4300000000005|\n",
      "|     13772|     33|      177|           1132.13|\n",
      "|     13282|     18|       40|           1047.84|\n",
      "|     12394|     63|       27|           1272.48|\n",
      "|     16320|    172|       56|           1038.46|\n",
      "|     13192|     95|       63| 911.9400000000002|\n",
      "|     14887|     79|        6|            1862.0|\n",
      "|     17506|     70|       16|294.28999999999996|\n",
      "|     17427|     71|        2|             100.8|\n",
      "|     18130|      8|       71|1045.7400000000002|\n",
      "|     16504|     25|       86|484.37999999999977|\n",
      "|     15269|     23|        2|             408.8|\n",
      "+----------+-------+---------+------------------+\n",
      "only showing top 20 rows\n",
      "\n"
     ]
    }
   ],
   "source": [
    "(\n",
    "    spark\n",
    "    .read\n",
    "    .jdbc(\n",
    "        jdbc_url,\n",
    "        'public.rfm_retail',\n",
    "        properties=jdbc_properties\n",
    "    )\n",
    "    .show()\n",
    ")"
   ]
  }
 ],
 "metadata": {
  "kernelspec": {
   "display_name": "Python 3 (ipykernel)",
   "language": "python",
   "name": "python3"
  },
  "language_info": {
   "codemirror_mode": {
    "name": "ipython",
    "version": 3
   },
   "file_extension": ".py",
   "mimetype": "text/x-python",
   "name": "python",
   "nbconvert_exporter": "python",
   "pygments_lexer": "ipython3",
   "version": "3.10.10"
  }
 },
 "nbformat": 4,
 "nbformat_minor": 5
}
